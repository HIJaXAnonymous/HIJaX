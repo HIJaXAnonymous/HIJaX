{
 "cells": [
  {
   "cell_type": "markdown",
   "metadata": {},
   "source": [
    "# Available Data"
   ]
  },
  {
   "cell_type": "code",
   "execution_count": 3,
   "metadata": {
    "collapsed": true
   },
   "outputs": [],
   "source": [
    "import pandas as pd\n",
    "import nltk\n",
    "from nltk import word_tokenize"
   ]
  },
  {
   "cell_type": "code",
   "execution_count": null,
   "metadata": {
    "collapsed": true
   },
   "outputs": [],
   "source": [
    "a_train = pd.read_json('conala-corpus/conala-train.json')"
   ]
  },
  {
   "cell_type": "markdown",
   "metadata": {},
   "source": [
    "### Annotated Conala training samples"
   ]
  },
  {
   "cell_type": "code",
   "execution_count": 13,
   "metadata": {},
   "outputs": [
    {
     "data": {
      "text/html": [
       "<div>\n",
       "<style scoped>\n",
       "    .dataframe tbody tr th:only-of-type {\n",
       "        vertical-align: middle;\n",
       "    }\n",
       "\n",
       "    .dataframe tbody tr th {\n",
       "        vertical-align: top;\n",
       "    }\n",
       "\n",
       "    .dataframe thead th {\n",
       "        text-align: right;\n",
       "    }\n",
       "</style>\n",
       "<table border=\"1\" class=\"dataframe\">\n",
       "  <thead>\n",
       "    <tr style=\"text-align: right;\">\n",
       "      <th></th>\n",
       "      <th>intent</th>\n",
       "      <th>question_id</th>\n",
       "      <th>rewritten_intent</th>\n",
       "      <th>snippet</th>\n",
       "    </tr>\n",
       "  </thead>\n",
       "  <tbody>\n",
       "    <tr>\n",
       "      <th>0</th>\n",
       "      <td>How to convert a list of multiple integers int...</td>\n",
       "      <td>41067960</td>\n",
       "      <td>Concatenate elements of a list 'x' of multiple...</td>\n",
       "      <td>sum(d * 10 ** i for i, d in enumerate(x[::-1]))</td>\n",
       "    </tr>\n",
       "    <tr>\n",
       "      <th>1</th>\n",
       "      <td>How to convert a list of multiple integers int...</td>\n",
       "      <td>41067960</td>\n",
       "      <td>convert a list of integers into a single integer</td>\n",
       "      <td>r = int(''.join(map(str, x)))</td>\n",
       "    </tr>\n",
       "    <tr>\n",
       "      <th>2</th>\n",
       "      <td>how to convert a datetime string back to datet...</td>\n",
       "      <td>4170655</td>\n",
       "      <td>convert a DateTime string back to a DateTime o...</td>\n",
       "      <td>datetime.strptime('2010-11-13 10:33:54.227806'...</td>\n",
       "    </tr>\n",
       "    <tr>\n",
       "      <th>3</th>\n",
       "      <td>Averaging the values in a dictionary based on ...</td>\n",
       "      <td>29565452</td>\n",
       "      <td>get the average of a list values for each key ...</td>\n",
       "      <td>[(i, sum(j) / len(j)) for i, j in list(d.items...</td>\n",
       "    </tr>\n",
       "    <tr>\n",
       "      <th>4</th>\n",
       "      <td>zip lists in python</td>\n",
       "      <td>13704860</td>\n",
       "      <td>zip two lists `[1, 2]` and `[3, 4]` into a lis...</td>\n",
       "      <td>zip([1, 2], [3, 4])</td>\n",
       "    </tr>\n",
       "  </tbody>\n",
       "</table>\n",
       "</div>"
      ],
      "text/plain": [
       "                                              intent  question_id  \\\n",
       "0  How to convert a list of multiple integers int...     41067960   \n",
       "1  How to convert a list of multiple integers int...     41067960   \n",
       "2  how to convert a datetime string back to datet...      4170655   \n",
       "3  Averaging the values in a dictionary based on ...     29565452   \n",
       "4                                zip lists in python     13704860   \n",
       "\n",
       "                                    rewritten_intent  \\\n",
       "0  Concatenate elements of a list 'x' of multiple...   \n",
       "1   convert a list of integers into a single integer   \n",
       "2  convert a DateTime string back to a DateTime o...   \n",
       "3  get the average of a list values for each key ...   \n",
       "4  zip two lists `[1, 2]` and `[3, 4]` into a lis...   \n",
       "\n",
       "                                             snippet  \n",
       "0    sum(d * 10 ** i for i, d in enumerate(x[::-1]))  \n",
       "1                      r = int(''.join(map(str, x)))  \n",
       "2  datetime.strptime('2010-11-13 10:33:54.227806'...  \n",
       "3  [(i, sum(j) / len(j)) for i, j in list(d.items...  \n",
       "4                                zip([1, 2], [3, 4])  "
      ]
     },
     "execution_count": 13,
     "metadata": {},
     "output_type": "execute_result"
    }
   ],
   "source": [
    "a_train[:5]"
   ]
  },
  {
   "cell_type": "code",
   "execution_count": 9,
   "metadata": {
    "scrolled": true
   },
   "outputs": [
    {
     "name": "stdout",
     "output_type": "stream",
     "text": [
      "REWRITTEN INTENT: Concatenate elements of a list 'x' of multiple integers to a single integer\n",
      "CODE: sum(d * 10 ** i for i, d in enumerate(x[::-1]))\n",
      "\n",
      "REWRITTEN INTENT: convert a list of integers into a single integer\n",
      "CODE: r = int(''.join(map(str, x)))\n",
      "\n",
      "REWRITTEN INTENT: convert a DateTime string back to a DateTime object of format '%Y-%m-%d %H:%M:%S.%f'\n",
      "CODE: datetime.strptime('2010-11-13 10:33:54.227806', '%Y-%m-%d %H:%M:%S.%f')\n",
      "\n",
      "REWRITTEN INTENT: get the average of a list values for each key in dictionary `d`)\n",
      "CODE: [(i, sum(j) / len(j)) for i, j in list(d.items())]\n",
      "\n",
      "REWRITTEN INTENT: zip two lists `[1, 2]` and `[3, 4]` into a list of two tuples containing elements at the same index in each list\n",
      "CODE: zip([1, 2], [3, 4])\n",
      "\n",
      "REWRITTEN INTENT: prepend string 'hello' to all items in list 'a'\n",
      "CODE: ['hello{0}'.format(i) for i in a]\n",
      "\n",
      "REWRITTEN INTENT: regex for repeating words in a string `s`\n",
      "CODE: re.sub('(?<!\\\\S)((\\\\S+)(?:\\\\s+\\\\2))(?:\\\\s+\\\\2)+(?!\\\\S)', '\\\\1', s)\n",
      "\n",
      "REWRITTEN INTENT: normalize a pandas dataframe `df` by row\n",
      "CODE: df.div(df.sum(axis=1), axis=0)\n",
      "\n",
      "REWRITTEN INTENT: swap values in a tuple/list inside a list `mylist`\n",
      "CODE: map(lambda t: (t[1], t[0]), mylist)\n",
      "\n",
      "REWRITTEN INTENT: Swap values in a tuple/list in list `mylist`\n",
      "CODE: [(t[1], t[0]) for t in mylist]\n",
      "\n"
     ]
    }
   ],
   "source": [
    "for i in range(10):\n",
    "    print(\"REWRITTEN INTENT: \" + a_train.iloc[i][\"rewritten_intent\"])\n",
    "    print(\"CODE: \" + a_train.iloc[i][\"snippet\"])\n",
    "    print()"
   ]
  },
  {
   "cell_type": "code",
   "execution_count": 8,
   "metadata": {},
   "outputs": [
    {
     "name": "stdout",
     "output_type": "stream",
     "text": [
      "2379\n"
     ]
    }
   ],
   "source": [
    "print(len(a_train))"
   ]
  },
  {
   "cell_type": "markdown",
   "metadata": {},
   "source": [
    "### Mined Conala training samples"
   ]
  },
  {
   "cell_type": "code",
   "execution_count": null,
   "metadata": {
    "collapsed": true
   },
   "outputs": [],
   "source": [
    "mined_train = pd.read_json('conala-corpus/conala-mined.jsonl', lines=True)"
   ]
  },
  {
   "cell_type": "code",
   "execution_count": 15,
   "metadata": {},
   "outputs": [
    {
     "data": {
      "text/html": [
       "<div>\n",
       "<style scoped>\n",
       "    .dataframe tbody tr th:only-of-type {\n",
       "        vertical-align: middle;\n",
       "    }\n",
       "\n",
       "    .dataframe tbody tr th {\n",
       "        vertical-align: top;\n",
       "    }\n",
       "\n",
       "    .dataframe thead th {\n",
       "        text-align: right;\n",
       "    }\n",
       "</style>\n",
       "<table border=\"1\" class=\"dataframe\">\n",
       "  <thead>\n",
       "    <tr style=\"text-align: right;\">\n",
       "      <th></th>\n",
       "      <th>id</th>\n",
       "      <th>intent</th>\n",
       "      <th>parent_answer_post_id</th>\n",
       "      <th>prob</th>\n",
       "      <th>question_id</th>\n",
       "      <th>snippet</th>\n",
       "    </tr>\n",
       "  </thead>\n",
       "  <tbody>\n",
       "    <tr>\n",
       "      <th>0</th>\n",
       "      <td>34705205347052328</td>\n",
       "      <td>Sort a nested list by two elements</td>\n",
       "      <td>34705233</td>\n",
       "      <td>0.869000</td>\n",
       "      <td>34705205</td>\n",
       "      <td>sorted(l, key=lambda x: (-int(x[1]), x[0]))</td>\n",
       "    </tr>\n",
       "    <tr>\n",
       "      <th>1</th>\n",
       "      <td>13905936139059460</td>\n",
       "      <td>converting integer to list in python</td>\n",
       "      <td>13905946</td>\n",
       "      <td>0.852670</td>\n",
       "      <td>13905936</td>\n",
       "      <td>[int(x) for x in str(num)]</td>\n",
       "    </tr>\n",
       "    <tr>\n",
       "      <th>2</th>\n",
       "      <td>13837848138380410</td>\n",
       "      <td>Converting byte string in unicode string</td>\n",
       "      <td>13838041</td>\n",
       "      <td>0.852143</td>\n",
       "      <td>13837848</td>\n",
       "      <td>c.decode('unicode_escape')</td>\n",
       "    </tr>\n",
       "    <tr>\n",
       "      <th>3</th>\n",
       "      <td>23490152234901792</td>\n",
       "      <td>List of arguments with argparse</td>\n",
       "      <td>23490179</td>\n",
       "      <td>0.850829</td>\n",
       "      <td>23490152</td>\n",
       "      <td>parser.add_argument('-t', dest='table', help='...</td>\n",
       "    </tr>\n",
       "    <tr>\n",
       "      <th>4</th>\n",
       "      <td>272178227218070</td>\n",
       "      <td>How to convert a Date string to a DateTime obj...</td>\n",
       "      <td>2721807</td>\n",
       "      <td>0.840372</td>\n",
       "      <td>2721782</td>\n",
       "      <td>datetime.datetime.strptime(s, '%Y-%m-%dT%H:%M:...</td>\n",
       "    </tr>\n",
       "  </tbody>\n",
       "</table>\n",
       "</div>"
      ],
      "text/plain": [
       "                  id                                             intent  \\\n",
       "0  34705205347052328                 Sort a nested list by two elements   \n",
       "1  13905936139059460               converting integer to list in python   \n",
       "2  13837848138380410           Converting byte string in unicode string   \n",
       "3  23490152234901792                    List of arguments with argparse   \n",
       "4    272178227218070  How to convert a Date string to a DateTime obj...   \n",
       "\n",
       "   parent_answer_post_id      prob  question_id  \\\n",
       "0               34705233  0.869000     34705205   \n",
       "1               13905946  0.852670     13905936   \n",
       "2               13838041  0.852143     13837848   \n",
       "3               23490179  0.850829     23490152   \n",
       "4                2721807  0.840372      2721782   \n",
       "\n",
       "                                             snippet  \n",
       "0        sorted(l, key=lambda x: (-int(x[1]), x[0]))  \n",
       "1                         [int(x) for x in str(num)]  \n",
       "2                         c.decode('unicode_escape')  \n",
       "3  parser.add_argument('-t', dest='table', help='...  \n",
       "4  datetime.datetime.strptime(s, '%Y-%m-%dT%H:%M:...  "
      ]
     },
     "execution_count": 15,
     "metadata": {},
     "output_type": "execute_result"
    }
   ],
   "source": [
    "mined_train[:5]"
   ]
  },
  {
   "cell_type": "markdown",
   "metadata": {},
   "source": [
    "Note these questions have a probability field, showing how likely the example is to be correct."
   ]
  },
  {
   "cell_type": "code",
   "execution_count": 11,
   "metadata": {},
   "outputs": [
    {
     "name": "stdout",
     "output_type": "stream",
     "text": [
      "INTENT: Sort a nested list by two elements\n",
      "CODE: sorted(l, key=lambda x: (-int(x[1]), x[0]))\n",
      "\n",
      "INTENT: converting integer to list in python\n",
      "CODE: [int(x) for x in str(num)]\n",
      "\n",
      "INTENT: Converting byte string in unicode string\n",
      "CODE: c.decode('unicode_escape')\n",
      "\n",
      "INTENT: List of arguments with argparse\n",
      "CODE: parser.add_argument('-t', dest='table', help='', nargs='+')\n",
      "\n",
      "INTENT: How to convert a Date string to a DateTime object?\n",
      "CODE: datetime.datetime.strptime(s, '%Y-%m-%dT%H:%M:%SZ')\n",
      "\n"
     ]
    }
   ],
   "source": [
    "for i in range(5):\n",
    "    print(\"INTENT: \" + mined_train.iloc[i][\"intent\"])\n",
    "    print(\"CODE: \" + mined_train.iloc[i][\"snippet\"])\n",
    "    print()"
   ]
  },
  {
   "cell_type": "code",
   "execution_count": null,
   "metadata": {
    "collapsed": true
   },
   "outputs": [],
   "source": [
    "print(len(a_train))"
   ]
  },
  {
   "cell_type": "code",
   "execution_count": 36,
   "metadata": {},
   "outputs": [
    {
     "data": {
      "text/plain": [
       "<matplotlib.text.Text at 0x12248bc88>"
      ]
     },
     "execution_count": 36,
     "metadata": {},
     "output_type": "execute_result"
    }
   ],
   "source": [
    "plt.hist(mined_train[\"prob\"], bins=30)\n",
    "plt.title('Probability of Accuracy for Mined Samples')\n",
    "plt.xlabel('Accuracy')\n",
    "plt.ylabel('Occurances')"
   ]
  },
  {
   "cell_type": "code",
   "execution_count": 37,
   "metadata": {},
   "outputs": [
    {
     "data": {
      "image/png": "[encoded data removed]",
      "text/plain": [
       "<matplotlib.figure.Figure at 0x165a4cc88>"
      ]
     },
     "metadata": {},
     "output_type": "display_data"
    }
   ],
   "source": [
    "plt.show()"
   ]
  },
  {
   "cell_type": "code",
   "execution_count": 34,
   "metadata": {},
   "outputs": [
    {
     "data": {
      "text/html": [
       "<div>\n",
       "<style scoped>\n",
       "    .dataframe tbody tr th:only-of-type {\n",
       "        vertical-align: middle;\n",
       "    }\n",
       "\n",
       "    .dataframe tbody tr th {\n",
       "        vertical-align: top;\n",
       "    }\n",
       "\n",
       "    .dataframe thead th {\n",
       "        text-align: right;\n",
       "    }\n",
       "</style>\n",
       "<table border=\"1\" class=\"dataframe\">\n",
       "  <thead>\n",
       "    <tr style=\"text-align: right;\">\n",
       "      <th></th>\n",
       "      <th>id</th>\n",
       "      <th>parent_answer_post_id</th>\n",
       "      <th>prob</th>\n",
       "      <th>question_id</th>\n",
       "    </tr>\n",
       "  </thead>\n",
       "  <tbody>\n",
       "    <tr>\n",
       "      <th>count</th>\n",
       "      <td>5.938910e+05</td>\n",
       "      <td>5.938910e+05</td>\n",
       "      <td>593891.000000</td>\n",
       "      <td>5.938910e+05</td>\n",
       "    </tr>\n",
       "    <tr>\n",
       "      <th>mean</th>\n",
       "      <td>5.024786e+16</td>\n",
       "      <td>1.859959e+07</td>\n",
       "      <td>0.064413</td>\n",
       "      <td>1.672431e+07</td>\n",
       "    </tr>\n",
       "    <tr>\n",
       "      <th>std</th>\n",
       "      <td>9.187890e+16</td>\n",
       "      <td>1.260624e+07</td>\n",
       "      <td>0.085104</td>\n",
       "      <td>1.227807e+07</td>\n",
       "    </tr>\n",
       "    <tr>\n",
       "      <th>min</th>\n",
       "      <td>5.945950e+06</td>\n",
       "      <td>5.950000e+02</td>\n",
       "      <td>0.000030</td>\n",
       "      <td>5.020000e+02</td>\n",
       "    </tr>\n",
       "    <tr>\n",
       "      <th>25%</th>\n",
       "      <td>9.673907e+14</td>\n",
       "      <td>7.669063e+06</td>\n",
       "      <td>0.016376</td>\n",
       "      <td>6.196250e+06</td>\n",
       "    </tr>\n",
       "    <tr>\n",
       "      <th>50%</th>\n",
       "      <td>1.613794e+16</td>\n",
       "      <td>1.657090e+07</td>\n",
       "      <td>0.034263</td>\n",
       "      <td>1.416615e+07</td>\n",
       "    </tr>\n",
       "    <tr>\n",
       "      <th>75%</th>\n",
       "      <td>3.513231e+16</td>\n",
       "      <td>2.960653e+07</td>\n",
       "      <td>0.074638</td>\n",
       "      <td>2.565613e+07</td>\n",
       "    </tr>\n",
       "    <tr>\n",
       "      <th>max</th>\n",
       "      <td>4.276938e+17</td>\n",
       "      <td>4.277310e+07</td>\n",
       "      <td>0.869000</td>\n",
       "      <td>4.277182e+07</td>\n",
       "    </tr>\n",
       "  </tbody>\n",
       "</table>\n",
       "</div>"
      ],
      "text/plain": [
       "                 id  parent_answer_post_id           prob   question_id\n",
       "count  5.938910e+05           5.938910e+05  593891.000000  5.938910e+05\n",
       "mean   5.024786e+16           1.859959e+07       0.064413  1.672431e+07\n",
       "std    9.187890e+16           1.260624e+07       0.085104  1.227807e+07\n",
       "min    5.945950e+06           5.950000e+02       0.000030  5.020000e+02\n",
       "25%    9.673907e+14           7.669063e+06       0.016376  6.196250e+06\n",
       "50%    1.613794e+16           1.657090e+07       0.034263  1.416615e+07\n",
       "75%    3.513231e+16           2.960653e+07       0.074638  2.565613e+07\n",
       "max    4.276938e+17           4.277310e+07       0.869000  4.277182e+07"
      ]
     },
     "execution_count": 34,
     "metadata": {},
     "output_type": "execute_result"
    }
   ],
   "source": [
    "mined_train.describe()"
   ]
  },
  {
   "cell_type": "markdown",
   "metadata": {},
   "source": [
    "We see that the majority of samples in our dataset have a probability below 0.1\n",
    "\n",
    "Let's see what samples with this level of probability look like."
   ]
  },
  {
   "cell_type": "code",
   "execution_count": 63,
   "metadata": {},
   "outputs": [
    {
     "name": "stdout",
     "output_type": "stream",
     "text": [
      "========= PROB > 50% =========\n",
      "\n",
      "INTENT: Extracting only characters from a string in Python\n",
      "CODE: \"\"\" \"\"\".join(re.split('[^a-zA-Z]*', 'your string'))\n",
      "p=0.656\n",
      "\n",
      "INTENT: Array indexing in numpy\n",
      "CODE: x[(np.arange(x.shape[0]) != 1), :, :]\n",
      "p=0.674\n",
      "\n",
      "INTENT: Dynamic order in django-mptt\n",
      "CODE: Comment.objects.all().order_by('-hotness')\n",
      "p=0.802\n",
      "\n",
      "INTENT: Is there any way to fetch all field name of collection in mongodb?\n",
      "CODE: db.coll.find({'fieldname': {'$exists': 1}}).count()\n",
      "p=0.639\n",
      "\n",
      "INTENT: URL encoding in python\n",
      "CODE: urllib.parse.quote_plus('a b')\n",
      "p=0.729\n",
      "\n",
      "========= PROB < 10% =========\n",
      "\n",
      "INTENT: Get a Try statement to loop around until correct value obtained\n",
      "CODE: pass\n",
      "p=0.033\n",
      "\n",
      "INTENT: How to predict a continuous value (time) from text documents?\n",
      "CODE: from sklearn.feature_extraction.text import TfidfVectorizer\n",
      "from sklearn.linear_model import SGDRegressor\n",
      "vect = TfidfVectorizer(input='filename')\n",
      "p=0.001\n",
      "\n",
      "INTENT: Dealing with db.Timeout on Google App Engine\n",
      "CODE: def _decorator(func):\n",
      "    pass\n",
      "p=0.018\n",
      "\n",
      "INTENT: Converting string of numbers and letters to int/float in pandas dataframe\n",
      "CODE: powers = {'B': 10 ** 9, 'M': 10 ** 6, 'T': 10 ** 12}\n",
      "\n",
      "def f(s):\n",
      "    pass\n",
      "p=0.003\n",
      "\n",
      "INTENT: Python multiprocessing with twisted's reactor\n",
      "CODE: Process.__init__(self)\n",
      "\n",
      "def run(self):\n",
      "    while not self.event.is_set():\n",
      "        time.sleep(1)\n",
      "p=0.025\n",
      "\n"
     ]
    }
   ],
   "source": [
    "import random\n",
    "\n",
    "low_prob = mined_train.loc[mined_train['prob'] < 0.1]\n",
    "high_prob = mined_train.loc[mined_train['prob'] > 0.6]\n",
    "\n",
    "print(\"========= PROB > 60% =========\")\n",
    "print()\n",
    "for i in range(5):\n",
    "    rand = random.randint(0, len(high_prob))\n",
    "    print(\"INTENT: \" + high_prob.iloc[rand][\"intent\"])\n",
    "    print(\"CODE: \" + high_prob.iloc[rand][\"snippet\"])\n",
    "    print(\"p=\" + str(round(high_prob.iloc[rand][\"prob\"], 3)))\n",
    "    print()\n",
    "    \n",
    "print (\"========= PROB < 10% =========\")\n",
    "print()\n",
    "for i in range(5):\n",
    "    rand = random.randint(0, len(low_prob))\n",
    "    print(\"INTENT: \" + low_prob.iloc[rand][\"intent\"])\n",
    "    print(\"CODE: \" + low_prob.iloc[rand][\"snippet\"])\n",
    "    print(\"p=\" + str(round(low_prob.iloc[rand][\"prob\"], 3)))\n",
    "    print()"
   ]
  },
  {
   "cell_type": "code",
   "execution_count": 62,
   "metadata": {},
   "outputs": [
    {
     "data": {
      "text/plain": [
       "1116"
      ]
     },
     "execution_count": 62,
     "metadata": {},
     "output_type": "execute_result"
    }
   ],
   "source": [
    "len(mined_train.loc[mined_train['prob'] > 0.6])"
   ]
  },
  {
   "cell_type": "markdown",
   "metadata": {},
   "source": [
    "### Potential concerns:\n",
    "\n",
    "- Examples with a probability of less than 60% do not seem reasonably reliable to train on, but filtering these out we are left with only 1,116 datapoints.\n",
    "- A lot of examples refer to obscure libraries. How will we gain information about all of these libraries?\n",
    "- Not all intents have specified names or values for every variable necessary to produce code snippet.\n",
    "    - How will these values be generated, and will this effect the accuracy score?\n",
    "- Small dataset means our model will be familiar with a very limited number of situations.\n",
    "    - We have approx 1116 mined + 2379 annoted examples, 3495 total useable samples"
   ]
  },
  {
   "cell_type": "markdown",
   "metadata": {},
   "source": [
    "## Potential Alternative Datasets"
   ]
  },
  {
   "cell_type": "markdown",
   "metadata": {},
   "source": [
    "#### StaQC https://github.com/LittleYUYU/StackOverflow-Question-Code-Dataset\n",
    "Seems like the code snippets seem more accurate, but they are not limited in length. Probably too complex to generate. Potential work-arounds: subset this dataset to include only one-line snippets, or explore the methodolgy they used to mine our own code snippets.\n",
    "\n",
    "#### EdinburgNLP https://github.com/LittleYUYU/StackOverflow-Question-Code-Dataset\n",
    "Doc-to-code generation, BLEU score < 15%. This is more of a project than a dataset.\n",
    "\n",
    "#### Pseudogen https://ahcweb01.naist.jp/pseudogen/\n",
    "Also more of a project than a dataset. Generates pseudocode from python code."
   ]
  }
 ],
 "metadata": {
  "kernelspec": {
   "display_name": "Python 3",
   "language": "python",
   "name": "python3"
  },
  "language_info": {
   "codemirror_mode": {
    "name": "ipython",
    "version": 3
   },
   "file_extension": ".py",
   "mimetype": "text/x-python",
   "name": "python",
   "nbconvert_exporter": "python",
   "pygments_lexer": "ipython3",
   "version": "3.6.2"
  }
 },
 "nbformat": 4,
 "nbformat_minor": 2
}
