{
 "cells": [
  {
   "cell_type": "markdown",
   "metadata": {},
   "source": [
    "# Available Data"
   ]
  },
  {
   "cell_type": "code",
   "execution_count": 1,
   "metadata": {
    "collapsed": true
   },
   "outputs": [],
   "source": [
    "import pandas as pd\n",
    "import nltk\n",
    "from nltk import word_tokenize\n",
    "import matplotlib.pyplot as plt "
   ]
  },
  {
   "cell_type": "code",
   "execution_count": 2,
   "metadata": {
    "collapsed": true
   },
   "outputs": [],
   "source": [
    "a_train = pd.read_json('../../Conala Challenge/conala-corpus/conala-train.json')"
   ]
  },
  {
   "cell_type": "markdown",
   "metadata": {},
   "source": [
    "### Annotated Conala training samples"
   ]
  },
  {
   "cell_type": "code",
   "execution_count": 3,
   "metadata": {},
   "outputs": [
    {
     "data": {
      "text/html": [
       "<div>\n",
       "<style scoped>\n",
       "    .dataframe tbody tr th:only-of-type {\n",
       "        vertical-align: middle;\n",
       "    }\n",
       "\n",
       "    .dataframe tbody tr th {\n",
       "        vertical-align: top;\n",
       "    }\n",
       "\n",
       "    .dataframe thead th {\n",
       "        text-align: right;\n",
       "    }\n",
       "</style>\n",
       "<table border=\"1\" class=\"dataframe\">\n",
       "  <thead>\n",
       "    <tr style=\"text-align: right;\">\n",
       "      <th></th>\n",
       "      <th>intent</th>\n",
       "      <th>question_id</th>\n",
       "      <th>rewritten_intent</th>\n",
       "      <th>snippet</th>\n",
       "    </tr>\n",
       "  </thead>\n",
       "  <tbody>\n",
       "    <tr>\n",
       "      <th>0</th>\n",
       "      <td>How to convert a list of multiple integers int...</td>\n",
       "      <td>41067960</td>\n",
       "      <td>Concatenate elements of a list 'x' of multiple...</td>\n",
       "      <td>sum(d * 10 ** i for i, d in enumerate(x[::-1]))</td>\n",
       "    </tr>\n",
       "    <tr>\n",
       "      <th>1</th>\n",
       "      <td>How to convert a list of multiple integers int...</td>\n",
       "      <td>41067960</td>\n",
       "      <td>convert a list of integers into a single integer</td>\n",
       "      <td>r = int(''.join(map(str, x)))</td>\n",
       "    </tr>\n",
       "    <tr>\n",
       "      <th>2</th>\n",
       "      <td>how to convert a datetime string back to datet...</td>\n",
       "      <td>4170655</td>\n",
       "      <td>convert a DateTime string back to a DateTime o...</td>\n",
       "      <td>datetime.strptime('2010-11-13 10:33:54.227806'...</td>\n",
       "    </tr>\n",
       "    <tr>\n",
       "      <th>3</th>\n",
       "      <td>Averaging the values in a dictionary based on ...</td>\n",
       "      <td>29565452</td>\n",
       "      <td>get the average of a list values for each key ...</td>\n",
       "      <td>[(i, sum(j) / len(j)) for i, j in list(d.items...</td>\n",
       "    </tr>\n",
       "    <tr>\n",
       "      <th>4</th>\n",
       "      <td>zip lists in python</td>\n",
       "      <td>13704860</td>\n",
       "      <td>zip two lists `[1, 2]` and `[3, 4]` into a lis...</td>\n",
       "      <td>zip([1, 2], [3, 4])</td>\n",
       "    </tr>\n",
       "  </tbody>\n",
       "</table>\n",
       "</div>"
      ],
      "text/plain": [
       "                                              intent  question_id  \\\n",
       "0  How to convert a list of multiple integers int...     41067960   \n",
       "1  How to convert a list of multiple integers int...     41067960   \n",
       "2  how to convert a datetime string back to datet...      4170655   \n",
       "3  Averaging the values in a dictionary based on ...     29565452   \n",
       "4                                zip lists in python     13704860   \n",
       "\n",
       "                                    rewritten_intent  \\\n",
       "0  Concatenate elements of a list 'x' of multiple...   \n",
       "1   convert a list of integers into a single integer   \n",
       "2  convert a DateTime string back to a DateTime o...   \n",
       "3  get the average of a list values for each key ...   \n",
       "4  zip two lists `[1, 2]` and `[3, 4]` into a lis...   \n",
       "\n",
       "                                             snippet  \n",
       "0    sum(d * 10 ** i for i, d in enumerate(x[::-1]))  \n",
       "1                      r = int(''.join(map(str, x)))  \n",
       "2  datetime.strptime('2010-11-13 10:33:54.227806'...  \n",
       "3  [(i, sum(j) / len(j)) for i, j in list(d.items...  \n",
       "4                                zip([1, 2], [3, 4])  "
      ]
     },
     "execution_count": 3,
     "metadata": {},
     "output_type": "execute_result"
    }
   ],
   "source": [
    "a_train[:5]"
   ]
  },
  {
   "cell_type": "code",
   "execution_count": 4,
   "metadata": {
    "scrolled": true
   },
   "outputs": [
    {
     "name": "stdout",
     "output_type": "stream",
     "text": [
      "REWRITTEN INTENT: Concatenate elements of a list 'x' of multiple integers to a single integer\n",
      "CODE: sum(d * 10 ** i for i, d in enumerate(x[::-1]))\n",
      "\n",
      "REWRITTEN INTENT: convert a list of integers into a single integer\n",
      "CODE: r = int(''.join(map(str, x)))\n",
      "\n",
      "REWRITTEN INTENT: convert a DateTime string back to a DateTime object of format '%Y-%m-%d %H:%M:%S.%f'\n",
      "CODE: datetime.strptime('2010-11-13 10:33:54.227806', '%Y-%m-%d %H:%M:%S.%f')\n",
      "\n",
      "REWRITTEN INTENT: get the average of a list values for each key in dictionary `d`)\n",
      "CODE: [(i, sum(j) / len(j)) for i, j in list(d.items())]\n",
      "\n",
      "REWRITTEN INTENT: zip two lists `[1, 2]` and `[3, 4]` into a list of two tuples containing elements at the same index in each list\n",
      "CODE: zip([1, 2], [3, 4])\n",
      "\n",
      "REWRITTEN INTENT: prepend string 'hello' to all items in list 'a'\n",
      "CODE: ['hello{0}'.format(i) for i in a]\n",
      "\n",
      "REWRITTEN INTENT: regex for repeating words in a string `s`\n",
      "CODE: re.sub('(?<!\\\\S)((\\\\S+)(?:\\\\s+\\\\2))(?:\\\\s+\\\\2)+(?!\\\\S)', '\\\\1', s)\n",
      "\n",
      "REWRITTEN INTENT: normalize a pandas dataframe `df` by row\n",
      "CODE: df.div(df.sum(axis=1), axis=0)\n",
      "\n",
      "REWRITTEN INTENT: swap values in a tuple/list inside a list `mylist`\n",
      "CODE: map(lambda t: (t[1], t[0]), mylist)\n",
      "\n",
      "REWRITTEN INTENT: Swap values in a tuple/list in list `mylist`\n",
      "CODE: [(t[1], t[0]) for t in mylist]\n",
      "\n"
     ]
    }
   ],
   "source": [
    "for i in range(10):\n",
    "    print(\"REWRITTEN INTENT: \" + a_train.iloc[i][\"rewritten_intent\"])\n",
    "    print(\"CODE: \" + a_train.iloc[i][\"snippet\"])\n",
    "    print()"
   ]
  },
  {
   "cell_type": "code",
   "execution_count": 5,
   "metadata": {},
   "outputs": [
    {
     "name": "stdout",
     "output_type": "stream",
     "text": [
      "2379\n"
     ]
    }
   ],
   "source": [
    "print(len(a_train))"
   ]
  },
  {
   "cell_type": "markdown",
   "metadata": {},
   "source": [
    "### Mined Conala training samples"
   ]
  },
  {
   "cell_type": "code",
   "execution_count": 6,
   "metadata": {
    "collapsed": true
   },
   "outputs": [],
   "source": [
    "mined_train = pd.read_json('../../Conala Challenge/conala-corpus/conala-mined.jsonl', lines=True)"
   ]
  },
  {
   "cell_type": "code",
   "execution_count": 7,
   "metadata": {},
   "outputs": [
    {
     "data": {
      "text/html": [
       "<div>\n",
       "<style scoped>\n",
       "    .dataframe tbody tr th:only-of-type {\n",
       "        vertical-align: middle;\n",
       "    }\n",
       "\n",
       "    .dataframe tbody tr th {\n",
       "        vertical-align: top;\n",
       "    }\n",
       "\n",
       "    .dataframe thead th {\n",
       "        text-align: right;\n",
       "    }\n",
       "</style>\n",
       "<table border=\"1\" class=\"dataframe\">\n",
       "  <thead>\n",
       "    <tr style=\"text-align: right;\">\n",
       "      <th></th>\n",
       "      <th>id</th>\n",
       "      <th>intent</th>\n",
       "      <th>parent_answer_post_id</th>\n",
       "      <th>prob</th>\n",
       "      <th>question_id</th>\n",
       "      <th>snippet</th>\n",
       "    </tr>\n",
       "  </thead>\n",
       "  <tbody>\n",
       "    <tr>\n",
       "      <th>0</th>\n",
       "      <td>34705205347052328</td>\n",
       "      <td>Sort a nested list by two elements</td>\n",
       "      <td>34705233</td>\n",
       "      <td>0.869000</td>\n",
       "      <td>34705205</td>\n",
       "      <td>sorted(l, key=lambda x: (-int(x[1]), x[0]))</td>\n",
       "    </tr>\n",
       "    <tr>\n",
       "      <th>1</th>\n",
       "      <td>13905936139059460</td>\n",
       "      <td>converting integer to list in python</td>\n",
       "      <td>13905946</td>\n",
       "      <td>0.852670</td>\n",
       "      <td>13905936</td>\n",
       "      <td>[int(x) for x in str(num)]</td>\n",
       "    </tr>\n",
       "    <tr>\n",
       "      <th>2</th>\n",
       "      <td>13837848138380410</td>\n",
       "      <td>Converting byte string in unicode string</td>\n",
       "      <td>13838041</td>\n",
       "      <td>0.852143</td>\n",
       "      <td>13837848</td>\n",
       "      <td>c.decode('unicode_escape')</td>\n",
       "    </tr>\n",
       "    <tr>\n",
       "      <th>3</th>\n",
       "      <td>23490152234901792</td>\n",
       "      <td>List of arguments with argparse</td>\n",
       "      <td>23490179</td>\n",
       "      <td>0.850829</td>\n",
       "      <td>23490152</td>\n",
       "      <td>parser.add_argument('-t', dest='table', help='...</td>\n",
       "    </tr>\n",
       "    <tr>\n",
       "      <th>4</th>\n",
       "      <td>272178227218070</td>\n",
       "      <td>How to convert a Date string to a DateTime obj...</td>\n",
       "      <td>2721807</td>\n",
       "      <td>0.840372</td>\n",
       "      <td>2721782</td>\n",
       "      <td>datetime.datetime.strptime(s, '%Y-%m-%dT%H:%M:...</td>\n",
       "    </tr>\n",
       "  </tbody>\n",
       "</table>\n",
       "</div>"
      ],
      "text/plain": [
       "                  id                                             intent  \\\n",
       "0  34705205347052328                 Sort a nested list by two elements   \n",
       "1  13905936139059460               converting integer to list in python   \n",
       "2  13837848138380410           Converting byte string in unicode string   \n",
       "3  23490152234901792                    List of arguments with argparse   \n",
       "4    272178227218070  How to convert a Date string to a DateTime obj...   \n",
       "\n",
       "   parent_answer_post_id      prob  question_id  \\\n",
       "0               34705233  0.869000     34705205   \n",
       "1               13905946  0.852670     13905936   \n",
       "2               13838041  0.852143     13837848   \n",
       "3               23490179  0.850829     23490152   \n",
       "4                2721807  0.840372      2721782   \n",
       "\n",
       "                                             snippet  \n",
       "0        sorted(l, key=lambda x: (-int(x[1]), x[0]))  \n",
       "1                         [int(x) for x in str(num)]  \n",
       "2                         c.decode('unicode_escape')  \n",
       "3  parser.add_argument('-t', dest='table', help='...  \n",
       "4  datetime.datetime.strptime(s, '%Y-%m-%dT%H:%M:...  "
      ]
     },
     "execution_count": 7,
     "metadata": {},
     "output_type": "execute_result"
    }
   ],
   "source": [
    "mined_train[:5]"
   ]
  },
  {
   "cell_type": "markdown",
   "metadata": {},
   "source": [
    "Note these questions have a probability field, showing how likely the example is to be correct."
   ]
  },
  {
   "cell_type": "code",
   "execution_count": 8,
   "metadata": {},
   "outputs": [
    {
     "name": "stdout",
     "output_type": "stream",
     "text": [
      "INTENT: Sort a nested list by two elements\n",
      "CODE: sorted(l, key=lambda x: (-int(x[1]), x[0]))\n",
      "\n",
      "INTENT: converting integer to list in python\n",
      "CODE: [int(x) for x in str(num)]\n",
      "\n",
      "INTENT: Converting byte string in unicode string\n",
      "CODE: c.decode('unicode_escape')\n",
      "\n",
      "INTENT: List of arguments with argparse\n",
      "CODE: parser.add_argument('-t', dest='table', help='', nargs='+')\n",
      "\n",
      "INTENT: How to convert a Date string to a DateTime object?\n",
      "CODE: datetime.datetime.strptime(s, '%Y-%m-%dT%H:%M:%SZ')\n",
      "\n"
     ]
    }
   ],
   "source": [
    "for i in range(5):\n",
    "    print(\"INTENT: \" + mined_train.iloc[i][\"intent\"])\n",
    "    print(\"CODE: \" + mined_train.iloc[i][\"snippet\"])\n",
    "    print()"
   ]
  },
  {
   "cell_type": "code",
   "execution_count": 9,
   "metadata": {},
   "outputs": [
    {
     "name": "stdout",
     "output_type": "stream",
     "text": [
      "2379\n"
     ]
    }
   ],
   "source": [
    "print(len(a_train))"
   ]
  },
  {
   "cell_type": "code",
   "execution_count": 10,
   "metadata": {},
   "outputs": [
    {
     "data": {
      "text/plain": [
       "<matplotlib.text.Text at 0x117f35b70>"
      ]
     },
     "execution_count": 10,
     "metadata": {},
     "output_type": "execute_result"
    }
   ],
   "source": [
    "plt.hist(mined_train[\"prob\"], bins=30)\n",
    "plt.title('Probability of Accuracy for Mined Samples')\n",
    "plt.xlabel('Accuracy')\n",
    "plt.ylabel('Occurances')"
   ]
  },
  {
   "cell_type": "code",
   "execution_count": 11,
   "metadata": {},
   "outputs": [
    {
     "data": {
      "image/png": "[encoded data removed]",
      "text/plain": [
       "<matplotlib.figure.Figure at 0x117f200b8>"
      ]
     },
     "metadata": {},
     "output_type": "display_data"
    }
   ],
   "source": [
    "plt.show()"
   ]
  },
  {
   "cell_type": "code",
   "execution_count": 12,
   "metadata": {},
   "outputs": [
    {
     "data": {
      "text/html": [
       "<div>\n",
       "<style scoped>\n",
       "    .dataframe tbody tr th:only-of-type {\n",
       "        vertical-align: middle;\n",
       "    }\n",
       "\n",
       "    .dataframe tbody tr th {\n",
       "        vertical-align: top;\n",
       "    }\n",
       "\n",
       "    .dataframe thead th {\n",
       "        text-align: right;\n",
       "    }\n",
       "</style>\n",
       "<table border=\"1\" class=\"dataframe\">\n",
       "  <thead>\n",
       "    <tr style=\"text-align: right;\">\n",
       "      <th></th>\n",
       "      <th>id</th>\n",
       "      <th>parent_answer_post_id</th>\n",
       "      <th>prob</th>\n",
       "      <th>question_id</th>\n",
       "    </tr>\n",
       "  </thead>\n",
       "  <tbody>\n",
       "    <tr>\n",
       "      <th>count</th>\n",
       "      <td>5.938910e+05</td>\n",
       "      <td>5.938910e+05</td>\n",
       "      <td>593891.000000</td>\n",
       "      <td>5.938910e+05</td>\n",
       "    </tr>\n",
       "    <tr>\n",
       "      <th>mean</th>\n",
       "      <td>5.024786e+16</td>\n",
       "      <td>1.859959e+07</td>\n",
       "      <td>0.064413</td>\n",
       "      <td>1.672431e+07</td>\n",
       "    </tr>\n",
       "    <tr>\n",
       "      <th>std</th>\n",
       "      <td>9.187890e+16</td>\n",
       "      <td>1.260624e+07</td>\n",
       "      <td>0.085104</td>\n",
       "      <td>1.227807e+07</td>\n",
       "    </tr>\n",
       "    <tr>\n",
       "      <th>min</th>\n",
       "      <td>5.945950e+06</td>\n",
       "      <td>5.950000e+02</td>\n",
       "      <td>0.000030</td>\n",
       "      <td>5.020000e+02</td>\n",
       "    </tr>\n",
       "    <tr>\n",
       "      <th>25%</th>\n",
       "      <td>9.673907e+14</td>\n",
       "      <td>7.669063e+06</td>\n",
       "      <td>0.016376</td>\n",
       "      <td>6.196250e+06</td>\n",
       "    </tr>\n",
       "    <tr>\n",
       "      <th>50%</th>\n",
       "      <td>1.613794e+16</td>\n",
       "      <td>1.657090e+07</td>\n",
       "      <td>0.034263</td>\n",
       "      <td>1.416615e+07</td>\n",
       "    </tr>\n",
       "    <tr>\n",
       "      <th>75%</th>\n",
       "      <td>3.513231e+16</td>\n",
       "      <td>2.960653e+07</td>\n",
       "      <td>0.074638</td>\n",
       "      <td>2.565613e+07</td>\n",
       "    </tr>\n",
       "    <tr>\n",
       "      <th>max</th>\n",
       "      <td>4.276938e+17</td>\n",
       "      <td>4.277310e+07</td>\n",
       "      <td>0.869000</td>\n",
       "      <td>4.277182e+07</td>\n",
       "    </tr>\n",
       "  </tbody>\n",
       "</table>\n",
       "</div>"
      ],
      "text/plain": [
       "                 id  parent_answer_post_id           prob   question_id\n",
       "count  5.938910e+05           5.938910e+05  593891.000000  5.938910e+05\n",
       "mean   5.024786e+16           1.859959e+07       0.064413  1.672431e+07\n",
       "std    9.187890e+16           1.260624e+07       0.085104  1.227807e+07\n",
       "min    5.945950e+06           5.950000e+02       0.000030  5.020000e+02\n",
       "25%    9.673907e+14           7.669063e+06       0.016376  6.196250e+06\n",
       "50%    1.613794e+16           1.657090e+07       0.034263  1.416615e+07\n",
       "75%    3.513231e+16           2.960653e+07       0.074638  2.565613e+07\n",
       "max    4.276938e+17           4.277310e+07       0.869000  4.277182e+07"
      ]
     },
     "execution_count": 12,
     "metadata": {},
     "output_type": "execute_result"
    }
   ],
   "source": [
    "mined_train.describe()"
   ]
  },
  {
   "cell_type": "markdown",
   "metadata": {},
   "source": [
    "We see that the majority of samples in our dataset have a probability below 0.1\n",
    "\n",
    "Let's see what samples with this level of probability look like."
   ]
  },
  {
   "cell_type": "code",
   "execution_count": 13,
   "metadata": {},
   "outputs": [
    {
     "name": "stdout",
     "output_type": "stream",
     "text": [
      "========= PROB > 60% =========\n",
      "\n",
      "INTENT: How can I insert NULL data into MySQL database with Python?\n",
      "CODE: cursor.execute('INSERT INTO table (`column1`) VALUES (%s)', (value,))\n",
      "p=0.647\n",
      "\n",
      "INTENT: How to exclude a character from a regex group?\n",
      "CODE: re.compile('[^a-zA-Z0-9-]+')\n",
      "p=0.713\n",
      "\n",
      "INTENT: Pandas Data Frame Plotting\n",
      "CODE: df.plot(title='Title Here')\n",
      "p=0.673\n",
      "\n",
      "INTENT: Python getting a string (key + value) from Python Dictionary\n",
      "CODE: \"\"\", \"\"\".join(['{}_{}'.format(k, v) for k, v in d.items()])\n",
      "p=0.647\n",
      "\n",
      "INTENT: Replace console output in Python\n",
      "CODE: sys.stdout.flush()\n",
      "p=0.602\n",
      "\n",
      "========= PROB < 10% =========\n",
      "\n",
      "INTENT: Assert mocked function called with json string in python\n",
      "CODE: call = mock_funct.call_args\n",
      "p=0.004\n",
      "\n",
      "INTENT: One-line & multi-line loops and vectorization in Python\n",
      "CODE: break\n",
      "p=0.061\n",
      "\n",
      "INTENT: Can't use an inheriting Django model's Meta class to configure a field defined in an inherited abstract model\n",
      "CODE: def dynamic_field_definition(cls):\n",
      "    pass\n",
      "\n",
      "def dynamic_field_definition(sender, **kwargs):\n",
      "    pass\n",
      "p=0.008\n",
      "\n",
      "INTENT: How to pass a random function as an argument?\n",
      "CODE: myfuncs[0]()\n",
      "p=0.088\n",
      "\n",
      "INTENT: Python - how to moderate list of weakproxy objects\n",
      "CODE: remove.add(index)\n",
      "p=0.086\n",
      "\n"
     ]
    }
   ],
   "source": [
    "import random\n",
    "\n",
    "low_prob = mined_train.loc[mined_train['prob'] < 0.1]\n",
    "high_prob = mined_train.loc[mined_train['prob'] > 0.6]\n",
    "\n",
    "print(\"========= PROB > 60% =========\")\n",
    "print()\n",
    "for i in range(5):\n",
    "    rand = random.randint(0, len(high_prob))\n",
    "    print(\"INTENT: \" + high_prob.iloc[rand][\"intent\"])\n",
    "    print(\"CODE: \" + high_prob.iloc[rand][\"snippet\"])\n",
    "    print(\"p=\" + str(round(high_prob.iloc[rand][\"prob\"], 3)))\n",
    "    print()\n",
    "    \n",
    "print (\"========= PROB < 10% =========\")\n",
    "print()\n",
    "for i in range(5):\n",
    "    rand = random.randint(0, len(low_prob))\n",
    "    print(\"INTENT: \" + low_prob.iloc[rand][\"intent\"])\n",
    "    print(\"CODE: \" + low_prob.iloc[rand][\"snippet\"])\n",
    "    print(\"p=\" + str(round(low_prob.iloc[rand][\"prob\"], 3)))\n",
    "    print()"
   ]
  },
  {
   "cell_type": "code",
   "execution_count": 14,
   "metadata": {},
   "outputs": [
    {
     "data": {
      "text/plain": [
       "1116"
      ]
     },
     "execution_count": 14,
     "metadata": {},
     "output_type": "execute_result"
    }
   ],
   "source": [
    "len(mined_train.loc[mined_train['prob'] > 0.6])"
   ]
  },
  {
   "cell_type": "markdown",
   "metadata": {},
   "source": [
    "### Potential concerns:\n",
    "\n",
    "- Examples with a probability of less than 60% do not seem reasonably reliable to train on, but filtering these out we are left with only 1,116 datapoints.\n",
    "- A lot of examples refer to obscure libraries. How will we gain information about all of these libraries?\n",
    "- Not all intents have specified names or values for every variable necessary to produce code snippet.\n",
    "    - How will these values be generated, and will this effect the accuracy score?\n",
    "- Small dataset means our model will be familiar with a very limited number of situations.\n",
    "    - We have approx 1116 mined + 2379 annoted examples, 3495 total useable samples"
   ]
  },
  {
   "cell_type": "markdown",
   "metadata": {},
   "source": [
    "## Potential Alternative Datasets"
   ]
  },
  {
   "cell_type": "markdown",
   "metadata": {},
   "source": [
    "#### StaQC https://github.com/LittleYUYU/StackOverflow-Question-Code-Dataset\n",
    "Seems like the code snippets seem more accurate, but they are not limited in length. Probably too complex to generate. Potential work-arounds: subset this dataset to include only one-line snippets, or explore the methodolgy they used to mine our own code snippets.\n",
    "\n",
    "#### EdinburgNLP https://github.com/LittleYUYU/StackOverflow-Question-Code-Dataset\n",
    "Doc-to-code generation, BLEU score < 15%. This is more of a project than a dataset.\n",
    "\n",
    "#### Pseudogen https://ahcweb01.naist.jp/pseudogen/\n",
    "Also more of a project than a dataset. Generates pseudocode from python code.\n",
    "\n",
    "#### Django https://github.com/odashi/ase15-django-dataset\n",
    "This was used by one of the main preceding studies we saw in our lit review, https://arxiv.org/abs/1704.01696. It contains english and python snippets, and while it seems like it may have some more complex snippets (longer than one line), it is worth looking into."
   ]
  },
  {
   "cell_type": "markdown",
   "metadata": {},
   "source": [
    "# Word2Vec"
   ]
  },
  {
   "cell_type": "code",
   "execution_count": 15,
   "metadata": {
    "collapsed": true
   },
   "outputs": [],
   "source": [
    "from nltk import word_tokenize, sent_tokenize\n",
    "import gensim\n",
    "from gensim.models.word2vec import Word2Vec"
   ]
  },
  {
   "cell_type": "code",
   "execution_count": 16,
   "metadata": {},
   "outputs": [
    {
     "data": {
      "text/plain": [
       "0                   Sort a nested list by two elements\n",
       "1                 converting integer to list in python\n",
       "2             Converting byte string in unicode string\n",
       "3                      List of arguments with argparse\n",
       "4    How to convert a Date string to a DateTime obj...\n",
       "5    How to efficiently convert Matlab engine array...\n",
       "6                  Converting html to text with Python\n",
       "7      regex for repeating words in a string in Python\n",
       "8            Ordering a list of dictionaries in python\n",
       "9                  Two Combination Lists from One List\n",
       "Name: intent, dtype: object"
      ]
     },
     "execution_count": 16,
     "metadata": {},
     "output_type": "execute_result"
    }
   ],
   "source": [
    "mined_train[\"intent\"][0:10]"
   ]
  },
  {
   "cell_type": "code",
   "execution_count": 17,
   "metadata": {
    "collapsed": true
   },
   "outputs": [],
   "source": [
    "import string\n",
    "from nltk import word_tokenize\n",
    "\n",
    "def prep(lines):\n",
    "    result = []\n",
    "    for line in lines:\n",
    "        if line != None:\n",
    "            result.append(word_tokenize(line.lower()))\n",
    "    return result"
   ]
  },
  {
   "cell_type": "code",
   "execution_count": 18,
   "metadata": {
    "collapsed": true
   },
   "outputs": [],
   "source": [
    "# size = 64, dimensions\n",
    "# sg = 1, use Skip-Gram. If zero, it will use CBOW[]\n",
    "# window = 10, context words (10 to the left and 10 to the right)\n",
    "# min_count = 5, ignore words with frequency lower than that\n",
    "# seed = 42, the answer to the universe, life and everything.\n",
    "# workers = 2, number of worker threads.\n",
    "intent_model = Word2Vec(sentences=prep(a_train[\"rewritten_intent\"]), size=64, sg=1,\n",
    "                 window=10, min_count=5, seed=42,\n",
    "                 workers=2)\n",
    "\n",
    "code_model = Word2Vec(sentences=prep(a_train[\"snippet\"]), size=64, sg=1,\n",
    "                 window=10, min_count=5, seed=42,\n",
    "                 workers=2)"
   ]
  },
  {
   "cell_type": "code",
   "execution_count": 19,
   "metadata": {},
   "outputs": [
    {
     "name": "stdout",
     "output_type": "stream",
     "text": [
      "INTENT MODEL\n",
      "concatenate\n",
      "elements\n",
      "of\n",
      "a\n",
      "list\n",
      "\n",
      "CODE MODEL\n",
      "sum\n",
      "(\n",
      "d\n",
      "*\n",
      "10\n"
     ]
    }
   ],
   "source": [
    "print(\"INTENT MODEL\")\n",
    "print(*list(intent_model.wv.vocab)[0:5], sep='\\n')\n",
    "print()\n",
    "print(\"CODE MODEL\")\n",
    "print(*list(code_model.wv.vocab)[0:5], sep='\\n')"
   ]
  },
  {
   "cell_type": "code",
   "execution_count": 20,
   "metadata": {},
   "outputs": [
    {
     "name": "stdout",
     "output_type": "stream",
     "text": [
      "LIST\n",
      "tuples\n",
      "containing\n",
      "create\n",
      "items\n",
      "elements\n",
      "l\n",
      "lists\n",
      "tuple\n",
      "\n",
      "ARRAY\n",
      "numpy\n",
      "at\n",
      "containing\n",
      "create\n",
      "2d\n",
      "elements\n",
      "l\n",
      "every\n",
      "\n",
      "X\n",
      "sum\n",
      "len\n",
      "==\n",
      "zip\n",
      "l\n",
      "reverse=true\n",
      "key=lambda\n",
      "sorted\n",
      "\n",
      "IF\n",
      "for"
     ]
    },
    {
     "name": "stderr",
     "output_type": "stream",
     "text": [
      "/Users/mariah/anaconda3/lib/python3.6/site-packages/ipykernel_launcher.py:4: DeprecationWarning: Call to deprecated `most_similar` (Method will be removed in 4.0.0, use self.wv.most_similar() instead).\n",
      "  after removing the cwd from sys.path.\n",
      "/Users/mariah/anaconda3/lib/python3.6/site-packages/gensim/matutils.py:737: FutureWarning: Conversion of the second argument of issubdtype from `int` to `np.signedinteger` is deprecated. In future, it will be treated as `np.int64 == np.dtype(int).type`.\n",
      "  if np.issubdtype(vec.dtype, np.int):\n"
     ]
    },
    {
     "name": "stdout",
     "output_type": "stream",
     "text": [
      "\n",
      "in\n",
      "lst\n",
      "list\n",
      "d.items\n",
      "enumerate\n",
      "dict\n",
      "pass\n",
      "\n"
     ]
    }
   ],
   "source": [
    "def printSimilar(word, model):\n",
    "    print(word.upper())\n",
    "    for i in range(8):\n",
    "        print(model.most_similar(word)[i][0])\n",
    "    print()\n",
    "        \n",
    "printSimilar(\"list\", intent_model)\n",
    "printSimilar(\"array\", intent_model)\n",
    "printSimilar(\"x\", code_model)\n",
    "printSimilar(\"if\", code_model)"
   ]
  },
  {
   "cell_type": "markdown",
   "metadata": {},
   "source": [
    "## Abstract Syntax Tree Encoding/Decoding"
   ]
  },
  {
   "cell_type": "code",
   "execution_count": 21,
   "metadata": {},
   "outputs": [
    {
     "data": {
      "text/plain": [
       "<_ast.Module at 0x11a56a3c8>"
      ]
     },
     "execution_count": 21,
     "metadata": {},
     "output_type": "execute_result"
    }
   ],
   "source": [
    "import ast\n",
    "import astor\n",
    "\n",
    "expr = mined_train.iloc[0][\"snippet\"]\n",
    "expr_ast = ast.parse(expr)\n",
    "expr_ast"
   ]
  },
  {
   "cell_type": "markdown",
   "metadata": {},
   "source": [
    "ast.dump(expr_ast)"
   ]
  },
  {
   "cell_type": "code",
   "execution_count": 22,
   "metadata": {},
   "outputs": [
    {
     "name": "stdout",
     "output_type": "stream",
     "text": [
      "ORIGINAL: \n",
      "sorted(l, key=lambda x: (-int(x[1]), x[0]))\n",
      "DECONVERTED FROM TREE: \n",
      "sorted(l, key=lambda x: (-int(x[1]), x[0]))\n",
      "\n"
     ]
    }
   ],
   "source": [
    "tree = ast.parse(expr_ast)\n",
    "decoded = astor.to_source(tree)\n",
    "print(\"ORIGINAL: \\n\" + expr)\n",
    "print(\"DECONVERTED FROM TREE: \\n\" + str(decoded))"
   ]
  },
  {
   "cell_type": "code",
   "execution_count": 23,
   "metadata": {},
   "outputs": [
    {
     "data": {
      "text/plain": [
       "\"Module(body=[Expr(value=Call(func=Name(id='sorted', ctx=Load()), args=[Name(id='l', ctx=Load())], keywords=[keyword(arg='key', value=Lambda(args=arguments(args=[arg(arg='x', annotation=None)], vararg=None, kwonlyargs=[], kw_defaults=[], kwarg=None, defaults=[]), body=Tuple(elts=[UnaryOp(op=USub(), operand=Call(func=Name(id='int', ctx=Load()), args=[Subscript(value=Name(id='x', ctx=Load()), slice=Index(value=Num(n=1)), ctx=Load())], keywords=[])), Subscript(value=Name(id='x', ctx=Load()), slice=Index(value=Num(n=0)), ctx=Load())], ctx=Load())))]))])\""
      ]
     },
     "execution_count": 23,
     "metadata": {},
     "output_type": "execute_result"
    }
   ],
   "source": [
    "ast.dump(tree)"
   ]
  },
  {
   "cell_type": "code",
   "execution_count": 24,
   "metadata": {},
   "outputs": [
    {
     "name": "stdout",
     "output_type": "stream",
     "text": [
      "Module(\n",
      "    body=[\n",
      "        Expr(\n",
      "            value=Call(func=Name(id='sorted'),\n",
      "                args=[Name(id='l')],\n",
      "                keywords=[\n",
      "                    keyword(arg='key',\n",
      "                        value=Lambda(\n",
      "                            args=arguments(args=[arg(arg='x', annotation=None)],\n",
      "                                vararg=None,\n",
      "                                kwonlyargs=[],\n",
      "                                kw_defaults=[],\n",
      "                                kwarg=None,\n",
      "                                defaults=[]),\n",
      "                            body=Tuple(\n",
      "                                elts=[\n",
      "                                    UnaryOp(op=USub,\n",
      "                                        operand=Call(func=Name(id='int'),\n",
      "                                            args=[Subscript(value=Name(id='x'), slice=Index(value=Num(n=1)))],\n",
      "                                            keywords=[])),\n",
      "                                    Subscript(value=Name(id='x'), slice=Index(value=Num(n=0)))])))]))])\n"
     ]
    },
    {
     "name": "stderr",
     "output_type": "stream",
     "text": [
      "/Users/mariah/anaconda3/lib/python3.6/site-packages/ipykernel_launcher.py:1: DeprecationWarning: astor.dump is deprecated.  Please use astor.dump_tree.\n",
      "  \"\"\"Entry point for launching an IPython kernel.\n"
     ]
    }
   ],
   "source": [
    "print(astor.dump(tree))"
   ]
  },
  {
   "cell_type": "code",
   "execution_count": 25,
   "metadata": {},
   "outputs": [
    {
     "data": {
      "text/plain": [
       "2379"
      ]
     },
     "execution_count": 25,
     "metadata": {},
     "output_type": "execute_result"
    }
   ],
   "source": [
    "len(a_train)"
   ]
  },
  {
   "cell_type": "markdown",
   "metadata": {
    "collapsed": true
   },
   "source": [
    "# Investigate Baseline Results"
   ]
  },
  {
   "cell_type": "code",
   "execution_count": 36,
   "metadata": {},
   "outputs": [
    {
     "data": {
      "text/plain": [
       "pandas.core.frame.DataFrame"
      ]
     },
     "execution_count": 36,
     "metadata": {},
     "output_type": "execute_result"
    }
   ],
   "source": [
    "answer = pd.read_json(\"answer.txt\")\n",
    "expected = pd.read_json('../../Conala Challenge/conala-corpus/conala-test.json')\n",
    "type(result)"
   ]
  },
  {
   "cell_type": "code",
   "execution_count": 44,
   "metadata": {},
   "outputs": [],
   "source": [
    "results = expected[[\"rewritten_intent\", \"snippet\"]].join(answer).rename(index=str, columns={0: \"output\"})"
   ]
  },
  {
   "cell_type": "code",
   "execution_count": 63,
   "metadata": {},
   "outputs": [
    {
     "data": {
      "text/html": [
       "<div>\n",
       "<style scoped>\n",
       "    .dataframe tbody tr th:only-of-type {\n",
       "        vertical-align: middle;\n",
       "    }\n",
       "\n",
       "    .dataframe tbody tr th {\n",
       "        vertical-align: top;\n",
       "    }\n",
       "\n",
       "    .dataframe thead th {\n",
       "        text-align: right;\n",
       "    }\n",
       "</style>\n",
       "<table border=\"1\" class=\"dataframe\">\n",
       "  <thead>\n",
       "    <tr style=\"text-align: right;\">\n",
       "      <th></th>\n",
       "      <th>rewritten_intent</th>\n",
       "      <th>snippet</th>\n",
       "      <th>output</th>\n",
       "    </tr>\n",
       "  </thead>\n",
       "  <tbody>\n",
       "    <tr>\n",
       "      <th>0</th>\n",
       "      <td>send a signal `signal.SIGUSR1` to the current ...</td>\n",
       "      <td>os.kill(os.getpid(), signal.SIGUSR1)</td>\n",
       "      <td>&lt;unk&gt; .&lt;unk&gt;_&lt;unk&gt; ( [ 'shutdown' , '/&lt;unk&gt;' ] )</td>\n",
       "    </tr>\n",
       "    <tr>\n",
       "      <th>1</th>\n",
       "      <td>decode a hex string '4a4b4c' to UTF-8.</td>\n",
       "      <td>bytes.fromhex('4a4b4c').decode('utf-8')</td>\n",
       "      <td>print('&lt;unk&gt; &lt;unk&gt; &lt;unk&gt; &lt;unk&gt; &lt;unk&gt; &lt;unk&gt; &lt;un...</td>\n",
       "    </tr>\n",
       "    <tr>\n",
       "      <th>2</th>\n",
       "      <td>check if all elements in list `myList` are ide...</td>\n",
       "      <td>all(x == myList[0] for x in myList)</td>\n",
       "      <td>[i for i in range() for i in range(0)]</td>\n",
       "    </tr>\n",
       "    <tr>\n",
       "      <th>3</th>\n",
       "      <td>format number of spaces between strings `Pytho...</td>\n",
       "      <td>print('%*s : %*s' % (20, 'Python', 20, 'Very G...</td>\n",
       "      <td>print ( [ i for i in range ( 100 ) for i in ra...</td>\n",
       "    </tr>\n",
       "    <tr>\n",
       "      <th>4</th>\n",
       "      <td>None</td>\n",
       "      <td>d.decode('cp1251').encode('utf8')</td>\n",
       "      <td>print ( s . decode ( 'raw_unicode_escape' ) )</td>\n",
       "    </tr>\n",
       "    <tr>\n",
       "      <th>5</th>\n",
       "      <td>get rid of None values in dictionary `kwargs`</td>\n",
       "      <td>res = {k: v for k, v in list(kwargs.items()) i...</td>\n",
       "      <td>d = set(['&lt;unk&gt;', '&lt;unk&gt;'])</td>\n",
       "    </tr>\n",
       "    <tr>\n",
       "      <th>6</th>\n",
       "      <td>get rid of None values in dictionary `kwargs`</td>\n",
       "      <td>res = dict((k, v) for k, v in kwargs.items() i...</td>\n",
       "      <td>d = set(['&lt;unk&gt;', '&lt;unk&gt;'])</td>\n",
       "    </tr>\n",
       "    <tr>\n",
       "      <th>7</th>\n",
       "      <td>capture final output of a chain of system comm...</td>\n",
       "      <td>subprocess.check_output('ps -ef | grep somethi...</td>\n",
       "      <td>cursor.execute(\\n    'INSERT &lt;unk&gt; &lt;unk&gt; &lt;unk&gt;...</td>\n",
       "    </tr>\n",
       "    <tr>\n",
       "      <th>8</th>\n",
       "      <td>concatenate a list of strings `['a', 'b', 'c']`</td>\n",
       "      <td>\"\"\"\"\"\".join(['a', 'b', 'c'])</td>\n",
       "      <td>set(['a', 'b', 'b'])</td>\n",
       "    </tr>\n",
       "    <tr>\n",
       "      <th>9</th>\n",
       "      <td>find intersection data between series `s1` and...</td>\n",
       "      <td>pd.Series(list(set(s1).intersection(set(s2))))</td>\n",
       "      <td>[x[0][0][0][0].any()[0].sum()]</td>\n",
       "    </tr>\n",
       "  </tbody>\n",
       "</table>\n",
       "</div>"
      ],
      "text/plain": [
       "                                    rewritten_intent  \\\n",
       "0  send a signal `signal.SIGUSR1` to the current ...   \n",
       "1             decode a hex string '4a4b4c' to UTF-8.   \n",
       "2  check if all elements in list `myList` are ide...   \n",
       "3  format number of spaces between strings `Pytho...   \n",
       "4                                               None   \n",
       "5      get rid of None values in dictionary `kwargs`   \n",
       "6      get rid of None values in dictionary `kwargs`   \n",
       "7  capture final output of a chain of system comm...   \n",
       "8    concatenate a list of strings `['a', 'b', 'c']`   \n",
       "9  find intersection data between series `s1` and...   \n",
       "\n",
       "                                             snippet  \\\n",
       "0               os.kill(os.getpid(), signal.SIGUSR1)   \n",
       "1            bytes.fromhex('4a4b4c').decode('utf-8')   \n",
       "2                all(x == myList[0] for x in myList)   \n",
       "3  print('%*s : %*s' % (20, 'Python', 20, 'Very G...   \n",
       "4                  d.decode('cp1251').encode('utf8')   \n",
       "5  res = {k: v for k, v in list(kwargs.items()) i...   \n",
       "6  res = dict((k, v) for k, v in kwargs.items() i...   \n",
       "7  subprocess.check_output('ps -ef | grep somethi...   \n",
       "8                       \"\"\"\"\"\".join(['a', 'b', 'c'])   \n",
       "9     pd.Series(list(set(s1).intersection(set(s2))))   \n",
       "\n",
       "                                              output  \n",
       "0   <unk> .<unk>_<unk> ( [ 'shutdown' , '/<unk>' ] )  \n",
       "1  print('<unk> <unk> <unk> <unk> <unk> <unk> <un...  \n",
       "2             [i for i in range() for i in range(0)]  \n",
       "3  print ( [ i for i in range ( 100 ) for i in ra...  \n",
       "4      print ( s . decode ( 'raw_unicode_escape' ) )  \n",
       "5                        d = set(['<unk>', '<unk>'])  \n",
       "6                        d = set(['<unk>', '<unk>'])  \n",
       "7  cursor.execute(\\n    'INSERT <unk> <unk> <unk>...  \n",
       "8                               set(['a', 'b', 'b'])  \n",
       "9                     [x[0][0][0][0].any()[0].sum()]  "
      ]
     },
     "execution_count": 63,
     "metadata": {},
     "output_type": "execute_result"
    }
   ],
   "source": [
    "results.head(10)"
   ]
  },
  {
   "cell_type": "markdown",
   "metadata": {},
   "source": [
    "### Initial insights:\n",
    "- Variable names are not being recognized and used in final output. Identifying variable names in preprocessing may help make the output more effective.\n",
    "- Key verbs like \"write\", \"convert\" and \"get\" are not given any extra priority right now.\n",
    "    - These verbs could be coerced into becoming functions, even if not present in dataset?\n",
    "- Training set itself does not seem to be 100% clean\n",
    "\n",
    "### What it's doing effectively:\n",
    "- Generally recognizes need to iterate?"
   ]
  },
  {
   "cell_type": "code",
   "execution_count": 61,
   "metadata": {},
   "outputs": [
    {
     "name": "stdout",
     "output_type": "stream",
     "text": [
      "Convert integer `number` into an unassigned integer\n",
      "struct.unpack('H', struct.pack('h', number))\n",
      "struct.unpack('<unk>', 16)\n"
     ]
    }
   ],
   "source": [
    "r = results.iloc[471]\n",
    "for c in results.columns:\n",
    "    print(r[c])"
   ]
  },
  {
   "cell_type": "code",
   "execution_count": 62,
   "metadata": {},
   "outputs": [
    {
     "name": "stdout",
     "output_type": "stream",
     "text": [
      "unzip list `original` and return a generator\n",
      "result = ((a for (a, b) in original), (b for (a, b) in original))\n",
      "<unk> = [ i for i in range ( 100 ) ]\n",
      "\n",
      "encode string 'data to be encoded'\n",
      "encoded = base64.b64encode('data to be encoded')\n",
      "\"\"\"hello <unk>\"\"\".strip()\n",
      "\n",
      "find 10 largest differences between each respective elements of list `l1` and list `l2`\n",
      "heapq.nlargest(10, range(len(l1)), key=lambda i: abs(l1[i] - l2[i]))\n",
      "[ ( x [ i ] for i , j in zip ( e1 , List2 ) ]\n",
      "\n",
      "pandas: delete rows in dataframe `df` based on multiple columns values\n",
      "df.set_index(list('BC')).drop(tuples, errors='ignore').reset_index()\n",
      "df.groupby(['<unk>', '<unk>'], inplace=True)\n",
      "\n",
      "get a value of datetime.today() in the UTC time zone\n",
      "datetime.now(pytz.utc)\n",
      "datetime.datetime.now().strftime('%A', 1)\n",
      "\n",
      "split a string `mystring` considering the spaces ' '\n",
      "mystring.replace(' ', '! !').split('!')\n",
      "s.split(' ', s)\n",
      "\n",
      "convert list `list_of_ints` into a comma separated string\n",
      "\"\"\",\"\"\".join([str(i) for i in list_of_ints])\n",
      "str_list = [ '' . join ( str ( x ) for x in my_list ] )\n",
      "\n",
      "get the largest key in a dictionary `x` with non-zero value\n",
      "max(k for k, v in x.items() if v != 0)\n",
      "sorted(list_of_tuples, key=lambda x: x[1])\n",
      "\n",
      "find the key associated with the largest value in dictionary `x` whilst key is non-zero value\n",
      "max(k for k, v in x.items() if v != 0)\n",
      "sorted(list_of_tuples, key=lambda x: x[1])\n",
      "\n",
      "return `True` if string `foobarrrr` contains regex `ba[rzd]`\n",
      "bool(re.search('ba[rzd]', 'foobarrrr'))\n",
      "print(re.findall(['<unk>', '<unk>', '<unk>']))\n",
      "\n"
     ]
    }
   ],
   "source": [
    "import random\n",
    "indices = random.sample(range(0, 500), 10)\n",
    "\n",
    "for i in indices:\n",
    "    for c in results.columns:\n",
    "        print(results.iloc[i][c])\n",
    "    print()"
   ]
  },
  {
   "cell_type": "markdown",
   "metadata": {},
   "source": [
    "# Generate file with best mined data"
   ]
  },
  {
   "cell_type": "code",
   "execution_count": 66,
   "metadata": {
    "collapsed": true
   },
   "outputs": [],
   "source": [
    "best_mined = mined_train.loc[mined_train['prob'] > 0.6]\n",
    "out = best_mined.to_json(orient='records')"
   ]
  },
  {
   "cell_type": "code",
   "execution_count": 67,
   "metadata": {
    "collapsed": true
   },
   "outputs": [],
   "source": [
    "with open('../../Conala Challenge/conala-corpus/conala-best_mined.json', 'w') as f:\n",
    "    f.write(out)"
   ]
  }
 ],
 "metadata": {
  "kernelspec": {
   "display_name": "Python 3",
   "language": "python",
   "name": "python3"
  },
  "language_info": {
   "codemirror_mode": {
    "name": "ipython",
    "version": 3
   },
   "file_extension": ".py",
   "mimetype": "text/x-python",
   "name": "python",
   "nbconvert_exporter": "python",
   "pygments_lexer": "ipython3",
   "version": "3.6.2"
  }
 },
 "nbformat": 4,
 "nbformat_minor": 2
}
